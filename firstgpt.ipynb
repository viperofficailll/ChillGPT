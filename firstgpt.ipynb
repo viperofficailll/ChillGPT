{
 "cells": [
  {
   "cell_type": "code",
   "execution_count": null,
   "id": "f731006b-1a59-4c33-b92e-8689fa4c65f5",
   "metadata": {},
   "outputs": [],
   "source": [
    "!pip uninstall tenacity\n",
    "!pip install tenacity==8.1.0\n",
    "\n",
    "!pip install crewai"
   ]
  },
  {
   "cell_type": "code",
   "execution_count": null,
   "id": "70a9aedb-863d-45e4-b8de-7a9aabd449f8",
   "metadata": {},
   "outputs": [],
   "source": [
    "from crewai import Agent ,Task,Crew"
   ]
  },
  {
   "cell_type": "code",
   "execution_count": null,
   "id": "f5322171-b2c8-4b52-9832-b19c21e4797f",
   "metadata": {},
   "outputs": [],
   "source": [
    "! pip install utils\n",
    "\n",
    "import os\n",
    "os.environ[\"OPENAI_API_KEY\"] = \"haha\"\n",
    "os.environ[\"OPENAI_MODEL_NAME\"] = \"gpt-3.5-turbo\"\n"
   ]
  },
  {
   "cell_type": "code",
   "execution_count": null,
   "id": "ec737f13-94fc-4651-85d1-c1a1271d7014",
   "metadata": {},
   "outputs": [],
   "source": [
    "Planner = Agent(\n",
    "    role=\"Content Planner\",\n",
    "    goal=\"Plan engaging and factually accurate content on {topic}.\",\n",
    "    backstory=(\n",
    "        \"You're working on planning a blog article about the topic: {topic}. \"\n",
    "        \"You collect the information that helps the audience learn something \"\n",
    "        \"and make informed decisions. Your work is the basis for the Content Writer \"\n",
    "        \"to write an article on this topic.\"\n",
    "    ),\n",
    "    allow_delegation=False,\n",
    "    verbose=True\n",
    ")\n"
   ]
  },
  {
   "cell_type": "code",
   "execution_count": null,
   "id": "521ecd02-1d7f-49e2-a5ce-2801d575d5cf",
   "metadata": {},
   "outputs": [],
   "source": [
    "Writer = Agent(\n",
    "    role=\"Content Writer\",\n",
    "    goal=(\n",
    "        \"Write insightful and factually accurate \"\n",
    "        \"opinion piece about the topic: {topic}\"\n",
    "    ),\n",
    "    backstory=(\n",
    "        \"You're working on writing \"\n",
    "        \"a new opinion piece about the topic: {topic}. \"\n",
    "        \"You follow the main objectives and direction of the outline, \"\n",
    "        \"as provided by the Content Planner. \"\n",
    "        \"You also provide objective and impartial insights \"\n",
    "        \"and back them up with the information \"\n",
    "        \"provided by the Content Planner. \"\n",
    "        \"You acknowledge in your opinion piece \"\n",
    "        \"when your statements are opinions as opposed to objective statements.\"\n",
    "    ),\n",
    "    allow_delegation=False,\n",
    "    verbose=True\n",
    ")\n"
   ]
  },
  {
   "cell_type": "code",
   "execution_count": null,
   "id": "099f527e-f27c-4a2f-9adf-f9ff22091830",
   "metadata": {},
   "outputs": [],
   "source": [
    "Editor = Agent(\n",
    "    role=\"Content Editor\",\n",
    "    goal=(\n",
    "        \"Edit and refine the opinion piece written by the Content Writer \"\n",
    "        \"to ensure it is clear, concise, and engaging while maintaining factual accuracy.\"\n",
    "    ),\n",
    "    backstory=(\n",
    "        \"You are tasked with reviewing the opinion piece about the topic: {topic}. \"\n",
    "        \"Your role is to improve the structure, flow, and readability of the content. \"\n",
    "        \"You ensure grammar, spelling, and punctuation are correct, and the tone is consistent. \"\n",
    "        \"You also verify that all statements are supported by evidence and distinguish \"\n",
    "        \"opinions from objective facts. \"\n",
    "        \"Your edits respect the direction and objectives provided by the Content Planner.\"\n",
    "    ),\n",
    "    allow_delegation=False,\n",
    "    verbose=True\n",
    ")\n"
   ]
  },
  {
   "cell_type": "code",
   "execution_count": null,
   "id": "c2ac384f-cd43-42da-ad6a-a6571063e2c8",
   "metadata": {},
   "outputs": [],
   "source": [
    "plan = Task(\n",
    "    description=(\n",
    "        \"1. Prioritize the latest trends, key players, and noteworthy news on {topic}.\\n\"\n",
    "        \"2. Identify the target audience, considering their interests and pain points.\\n\"\n",
    "        \"3. Develop a detailed content outline including an introduction, key points, and a call to action.\\n\"\n",
    "        \"4. Include SEO keywords and relevant data or sources.\"\n",
    "    ),\n",
    "    expected_output=(\n",
    "        \"A comprehensive content plan document with an outline, audience analysis, SEO keywords, \"\n",
    "        \"and resources.\"\n",
    "    ),\n",
    "    agent=Planner\n",
    ")\n"
   ]
  },
  {
   "cell_type": "code",
   "execution_count": null,
   "id": "d10165be-acbc-4a66-8f85-db33f44c7260",
   "metadata": {},
   "outputs": [],
   "source": [
    "write =Task(\n",
    "    description=(\n",
    "        \"1. Use the content plan to craft a compeling blog post on {topic}.\\n\"\n",
    "        \"2.Incorporate SEO keywords naturally.\\n\"\n",
    "        \"3. Sections/Subtitiles are properly named in an engaging manner.\\n\"\n",
    "       \" 4. Ensure the post is structured with an engaging introduction ,insightful body, and a summarizing conclusion .\\n\"\n",
    "       \" 5.Proofread for grammatical errors and alignment with brand's voice.\\n\"\n",
    "    ),\n",
    "    expected_output=\"A well-written blog post \"\n",
    "    \"in markdown format ,ready for publication \"\n",
    "    \"each section should have 2 or 3 paragraphs\",\n",
    "    agent =Writer\n",
    "    \n",
    ")"
   ]
  },
  {
   "cell_type": "code",
   "execution_count": null,
   "id": "37e606d6-acba-4025-9012-6ef2c904edb2",
   "metadata": {},
   "outputs": [],
   "source": [
    "edit = Task(\n",
    "    description=\"Proofread the given blog post for grammatical errors and alignment with the brand's voice.\",\n",
    "    expected_output=\"A well-written blog post in markdown format, ready for publication. Each section should have 2 or 3 paragraphs.\",\n",
    "    agent=Editor\n",
    ")"
   ]
  },
  {
   "cell_type": "code",
   "execution_count": null,
   "id": "ce3b3ebf-a380-4489-a4b2-65adfa5f3b2d",
   "metadata": {},
   "outputs": [],
   "source": [
    "crew = Crew(\n",
    "    agents=[Planner, Writer, Editor],\n",
    "    tasks=[plan, write, edit],\n",
    "    verbose=True  # or verbose=False, depending on the desired verbosity level\n",
    ")\n"
   ]
  },
  {
   "cell_type": "code",
   "execution_count": null,
   "id": "4d0172ee-69c1-49df-9ca4-a62883a2258a",
   "metadata": {},
   "outputs": [],
   "source": [
    "result = crew.kickoff(inputs={\"topic\": \"Artificial Intelligence\"})\n",
    "\n"
   ]
  },
  {
   "cell_type": "code",
   "execution_count": null,
   "id": "9abe9676-bccc-4a63-adba-0a1e90e1ea09",
   "metadata": {},
   "outputs": [],
   "source": []
  }
 ],
 "metadata": {
  "kernelspec": {
   "display_name": "Python [conda env:base] *",
   "language": "python",
   "name": "conda-base-py"
  },
  "language_info": {
   "codemirror_mode": {
    "name": "ipython",
    "version": 3
   },
   "file_extension": ".py",
   "mimetype": "text/x-python",
   "name": "python",
   "nbconvert_exporter": "python",
   "pygments_lexer": "ipython3",
   "version": "3.12.7"
  }
 },
 "nbformat": 4,
 "nbformat_minor": 5
}
